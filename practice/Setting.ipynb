{
  "nbformat": 4,
  "nbformat_minor": 0,
  "metadata": {
    "colab": {
      "provenance": [],
      "machine_shape": "hm",
      "authorship_tag": "ABX9TyPDQ/v2ZzWjEkPtwSWbPcxO",
      "include_colab_link": true
    },
    "kernelspec": {
      "name": "python3",
      "display_name": "Python 3"
    },
    "language_info": {
      "name": "python"
    },
    "accelerator": "TPU"
  },
  "cells": [
    {
      "cell_type": "markdown",
      "metadata": {
        "id": "view-in-github",
        "colab_type": "text"
      },
      "source": [
        "<a href=\"https://colab.research.google.com/github/jsh1021902/ai_for_machine_learning/blob/main/practice/Setting.ipynb\" target=\"_parent\"><img src=\"https://colab.research.google.com/assets/colab-badge.svg\" alt=\"Open In Colab\"/></a>"
      ]
    },
    {
      "cell_type": "markdown",
      "source": [
        "# Setting up an environment\n",
        "\n",
        "Work with google drive from google Colab. Clone github codes to drive."
      ],
      "metadata": {
        "id": "lo5O2yIjNB8g"
      }
    },
    {
      "cell_type": "code",
      "execution_count": 2,
      "metadata": {
        "colab": {
          "base_uri": "https://localhost:8080/"
        },
        "id": "qlWloNd5M08J",
        "outputId": "82a3d303-5b55-49ac-b796-f5f747e950b1"
      },
      "outputs": [
        {
          "output_type": "stream",
          "name": "stdout",
          "text": [
            "Mounted at /content/drive\n"
          ]
        }
      ],
      "source": [
        "from google.colab import drive\n",
        "drive.mount('/content/drive')"
      ]
    },
    {
      "cell_type": "code",
      "source": [
        "ls"
      ],
      "metadata": {
        "colab": {
          "base_uri": "https://localhost:8080/"
        },
        "id": "d9x2yLL3RFDx",
        "outputId": "dd5a0dbc-d195-48a5-b135-4f2897e3eff5"
      },
      "execution_count": 9,
      "outputs": [
        {
          "output_type": "stream",
          "name": "stdout",
          "text": [
            "\u001b[0m\u001b[01;34m'Colab Notebooks'\u001b[0m/   \u001b[01;34mJIP\u001b[0m/                              \u001b[01;34m'머신러닝 공부'\u001b[0m\u001b[K/\n",
            " \u001b[01;34mCUAI_BASIC\u001b[0m/         KakaoTalk_20230623_140653335.jpg   \u001b[01;34m응용통계학과\u001b[0m\u001b[K/\n",
            " \u001b[01;34mCUAI_SUMMER\u001b[0m/        model.ipynb                        \u001b[01;34m학술제\u001b[0m/\n",
            " \u001b[01;34mCUAI_딥러닝\u001b[0m/        predict.ipynb\n",
            " IMG_0466.png        \u001b[01;34myolov8\u001b[0m/\n"
          ]
        }
      ]
    },
    {
      "cell_type": "code",
      "source": [
        "cd \"/content/drive/MyDrive\""
      ],
      "metadata": {
        "colab": {
          "base_uri": "https://localhost:8080/"
        },
        "id": "GnW9vp8kM43f",
        "outputId": "7bea0e0f-e8af-4f7b-e3fd-e7129c678a98"
      },
      "execution_count": 3,
      "outputs": [
        {
          "output_type": "stream",
          "name": "stdout",
          "text": [
            "/content/drive/MyDrive\n"
          ]
        }
      ]
    },
    {
      "cell_type": "code",
      "source": [
        "!git clone https://github.com/ottter/Hands-On-Data-Analysis-with-Pandas-2nd-edition.git"
      ],
      "metadata": {
        "colab": {
          "base_uri": "https://localhost:8080/"
        },
        "id": "7lmcFNE2OMwj",
        "outputId": "3394054d-f7d7-48db-d7a5-93e4ab82fc36"
      },
      "execution_count": 12,
      "outputs": [
        {
          "output_type": "stream",
          "name": "stdout",
          "text": [
            "Cloning into 'Hands-On-Data-Analysis-with-Pandas-2nd-edition'...\n",
            "remote: Enumerating objects: 3556, done.\u001b[K\n",
            "remote: Counting objects: 100% (133/133), done.\u001b[K\n",
            "remote: Compressing objects: 100% (100/100), done.\u001b[K\n",
            "remote: Total 3556 (delta 69), reused 80 (delta 32), pack-reused 3423\u001b[K\n",
            "Receiving objects: 100% (3556/3556), 77.41 MiB | 18.51 MiB/s, done.\n",
            "Resolving deltas: 100% (2202/2202), done.\n",
            "Updating files: 100% (242/242), done.\n"
          ]
        }
      ]
    },
    {
      "cell_type": "code",
      "source": [
        "import os\n",
        "import sys\n",
        "sys.path.append(os.path.abspath('/content/drive/myDrive/Hands-On-Data-Analysis-with-Pandas-2nd-edition/visual-aids'))"
      ],
      "metadata": {
        "id": "Z0zqvwJGOcc1"
      },
      "execution_count": 13,
      "outputs": []
    },
    {
      "cell_type": "code",
      "source": [
        "from visual_aids import stats_viz"
      ],
      "metadata": {
        "colab": {
          "base_uri": "https://localhost:8080/",
          "height": 310
        },
        "id": "ts-mck72PDGN",
        "outputId": "2bdeba84-acec-41cd-daf6-5446d4cd3111"
      },
      "execution_count": 14,
      "outputs": [
        {
          "output_type": "error",
          "ename": "ModuleNotFoundError",
          "evalue": "ignored",
          "traceback": [
            "\u001b[0;31m---------------------------------------------------------------------------\u001b[0m",
            "\u001b[0;31mModuleNotFoundError\u001b[0m                       Traceback (most recent call last)",
            "\u001b[0;32m<ipython-input-14-748faa46bcb8>\u001b[0m in \u001b[0;36m<cell line: 1>\u001b[0;34m()\u001b[0m\n\u001b[0;32m----> 1\u001b[0;31m \u001b[0;32mfrom\u001b[0m \u001b[0mvisual_aids\u001b[0m \u001b[0;32mimport\u001b[0m \u001b[0mstats_viz\u001b[0m\u001b[0;34m\u001b[0m\u001b[0;34m\u001b[0m\u001b[0m\n\u001b[0m",
            "\u001b[0;31mModuleNotFoundError\u001b[0m: No module named 'visual_aids'",
            "",
            "\u001b[0;31m---------------------------------------------------------------------------\u001b[0;32m\nNOTE: If your import is failing due to a missing package, you can\nmanually install dependencies using either !pip or !apt.\n\nTo view examples of installing some common dependencies, click the\n\"Open Examples\" button below.\n\u001b[0;31m---------------------------------------------------------------------------\u001b[0m\n"
          ],
          "errorDetails": {
            "actions": [
              {
                "action": "open_url",
                "actionText": "Open Examples",
                "url": "/notebooks/snippets/importing_libraries.ipynb"
              }
            ]
          }
        }
      ]
    },
    {
      "cell_type": "markdown",
      "source": [
        "## title\n",
        "- list1\n",
        "- list2"
      ],
      "metadata": {
        "id": "Na3sRD6tO8o8"
      }
    },
    {
      "cell_type": "code",
      "source": [],
      "metadata": {
        "id": "KZQgB-biO7bS"
      },
      "execution_count": null,
      "outputs": []
    }
  ]
}